{
 "cells": [
  {
   "cell_type": "markdown",
   "metadata": {
    "collapsed": true
   },
   "source": [
    "# Introduction"
   ]
  },
  {
   "cell_type": "markdown",
   "metadata": {},
   "source": [
    "## What is exploratory data analysis? "
   ]
  },
  {
   "cell_type": "markdown",
   "metadata": {},
   "source": [
    "<img src=\"figures/crisp.png\" alt=\"Crisp-DM\" width=\"590\" align=\"left\">"
   ]
  },
  {
   "cell_type": "markdown",
   "metadata": {},
   "source": [
    "We need to understand the data for which we are working from. This is what we call **exploratory data analysis**."
   ]
  },
  {
   "cell_type": "markdown",
   "metadata": {},
   "source": [
    "The primary purpose for EDA is to better understand the data we are using."
   ]
  },
  {
   "cell_type": "markdown",
   "metadata": {},
   "source": [
    "Remember the quality of your inputs decide the quality of your output. Once you have got your business hypothesis ready, it makes sense to spend lot of time and efforts in data exploration, cleaning and preparation. This can take up to 70% of your total project time."
   ]
  },
  {
   "cell_type": "markdown",
   "metadata": {},
   "source": [
    "## Why we do  EDA\n",
    "Sometimes the consumer of your analysis won't understand why you need the time for EDA and will want results **NOW!** Here are some of the reasons you can give to convince them it's a good use of time for everyone involved. \n",
    "\n",
    "**Reasons for the analyst**\n",
    "* Identify patterns and develop hypotheses.\n",
    "* Test technical assumptions.\n",
    "* Inform model selection and feature engineering.\n",
    "* Build an intuition for the data.\n",
    "\n",
    "**Reasons for consumer of analysis**\n",
    "* Ensures delivery of technically-sound results.\n",
    "* Ensures right question is being asked.\n",
    "* Tests business assumptions.\n",
    "* Provides context necessary for maximum applicability and value of results.\n",
    "* Leads to insights that would otherwise not be found.\n",
    "\n",
    "## Things to keep in mind \n",
    "* You're never done with EDA. With every analytical result, you want to return to EDA, make sure the result makes sense, test other questions that come up because of it.  \n",
    "* Stay open-minded. You're supposed to be challenging your assumptions and those of the stakeholder who you're performing the analysis for. \n",
    "* Repeat EDA for every new problem. Just because you've done EDA on a dataset before doesn't mean you shouldn't do it again for the next problem. You need to look at the data through the lense of the problem at hand and you will likely have different areas of investigation.\n"
   ]
  },
  {
   "cell_type": "markdown",
   "metadata": {},
   "source": [
    "##  Steps for EDA\n",
    "\n",
    "1. Form hypotheses/develop investigation themes to explore .Yes, you're exploring, but that doesn't mean it's a free for all.\n",
    "    * What do you need to understand the question you're trying to answer? \n",
    "    * List before diving in and update throughout the analysis\n",
    "2. Wrangle data. \n",
    "    * Make your data tidy\n",
    "        * Each variable forms a column\n",
    "        * Each observation forms a row\n",
    "        * Each type of observational unit forms a table\n",
    "    * Transform data\n",
    "        * Log \n",
    "        * Binning\n",
    "        * Aggegration into higher level categories  \n",
    "3. Assess data quality and profile\n",
    "    * What data isnât there? \n",
    "    * Is the data that is there right? \n",
    "    * Is the data being generated in the way you think?\n",
    "4. Explore each individual variable in the dataset\n",
    "    * What does each field in the data look like? \n",
    "    * How can each variable be described by a few key values? \n",
    "    * Are the assumptions often made in modeling valid? \n",
    "5. Assess the relationship between each variable and the target\n",
    "    * How does each variable interact with the target variable? \n",
    "    * Assess each relationships:\n",
    "        * Linearity \n",
    "        * Direction \n",
    "        * Rough size \n",
    "        * Strength\n",
    "6. Assess interactions between variables\n",
    "    * How do the variables interact with each other? \n",
    "    * What is the linearity, direction, rough size, and strength of the relationships between pairs of variables? \n",
    "7. Explore data across many dimensions \n",
    "* there patterns across many of the variables?\n",
    "\n",
    "Throughout the entire analysis you want to:\n",
    "* Capture a list of hypotheses and questions that come up for further exploration.\n",
    "* Record things to watch out for/ be aware of in future analyses. \n",
    "* Show intermediate results to colleagues to get a fresh perspective, feedback, domain knowledge. Don't do EDA in a bubble! Get feedback throughout especially from people removed from the problem and/or with relevant domain knowledge. \n",
    "* Position visuals and results together. EDA relies on your natural pattern recognition abilities so maximize what you'll find by putting visualizations and results in close proximity. "
   ]
  }
 ],
 "metadata": {
  "kernelspec": {
   "display_name": "Python 3",
   "language": "python",
   "name": "python3"
  },
  "language_info": {
   "codemirror_mode": {
    "name": "ipython",
    "version": 3
   },
   "file_extension": ".py",
   "mimetype": "text/x-python",
   "name": "python",
   "nbconvert_exporter": "python",
   "pygments_lexer": "ipython3",
   "version": "3.7.3"
  }
 },
 "nbformat": 4,
 "nbformat_minor": 2
}
